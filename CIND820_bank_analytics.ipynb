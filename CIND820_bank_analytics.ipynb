{
  "nbformat": 4,
  "nbformat_minor": 0,
  "metadata": {
    "colab": {
      "name": "CIND820 bank_analytics.ipynb",
      "provenance": [],
      "collapsed_sections": [],
      "toc_visible": true,
      "include_colab_link": true
    },
    "kernelspec": {
      "name": "python3",
      "display_name": "Python 3"
    },
    "language_info": {
      "name": "python"
    }
  },
  "cells": [
    {
      "cell_type": "markdown",
      "metadata": {
        "id": "view-in-github",
        "colab_type": "text"
      },
      "source": [
        "<a href=\"https://colab.research.google.com/github/Eistam/CIND820-Project/blob/main/CIND820_bank_analytics.ipynb\" target=\"_parent\"><img src=\"https://colab.research.google.com/assets/colab-badge.svg\" alt=\"Open In Colab\"/></a>"
      ]
    },
    {
      "cell_type": "markdown",
      "metadata": {
        "id": "EfXA2GXX_AUc"
      },
      "source": [
        "# Importing Libraries"
      ]
    },
    {
      "cell_type": "code",
      "metadata": {
        "id": "QgVYLScOQaE9"
      },
      "source": [
        "# import numpy for linear algebra and array list\n",
        "import numpy as np \n",
        "# used to read csv files and create dataframes\n",
        "import pandas as pd \n",
        "# to scale graphs and surpress errors in plotting \n",
        "%matplotlib inline \n",
        "# plotting library, for simple plots\n",
        "import matplotlib.pyplot as plt \n",
        " # plotting utility\n",
        "import seaborn as sns\n",
        "sns.set() # enabling plotting utility \n",
        "# Splitting the data into train-test values\n",
        "from sklearn.model_selection import train_test_split\n",
        "# standard scalar for normalizing the datasets \n",
        "from sklearn.preprocessing import StandardScaler, MinMaxScaler\n",
        "# importing XGBClassifier \n",
        "from xgboost import XGBClassifier\n",
        "#import naive_bayes \n",
        "from sklearn.naive_bayes import GaussianNB\n",
        "# importing Logistic Regression from sklearn models \n",
        "from sklearn.linear_model import LogisticRegression\n",
        "#importing Random Forest Classifier from sklearn.ensemble \n",
        "from sklearn.ensemble import RandomForestClassifier\n",
        "# importing metrics for evaluation of the model \n",
        "from sklearn.metrics import confusion_matrix, classification_report, accuracy_score \n",
        "# importing warnings \n",
        "import warnings as wr\n",
        "wr.filterwarnings(\"ignore\")\n",
        "#import dataset\n",
        "df = pd.read_csv(\"/content/bank-additional-full.csv\", sep=';')\n"
      ],
      "execution_count": null,
      "outputs": []
    },
    {
      "cell_type": "markdown",
      "metadata": {
        "id": "I2QUzqfzEEy9"
      },
      "source": [
        "# EDA - Exploratory Data Analysis"
      ]
    },
    {
      "cell_type": "code",
      "metadata": {
        "colab": {
          "base_uri": "https://localhost:8080/",
          "height": 930
        },
        "id": "iDQgHzB2ECI4",
        "outputId": "30f1ab57-c79e-4784-b7bc-f2ec0d5fd259"
      },
      "source": [
        "# Detailed information of the dataframe\n",
        "df.info()\n",
        "#display top 1000 rows\n",
        "df.head(1000)"
      ],
      "execution_count": null,
      "outputs": [
        {
          "output_type": "stream",
          "name": "stdout",
          "text": [
            "<class 'pandas.core.frame.DataFrame'>\n",
            "RangeIndex: 41188 entries, 0 to 41187\n",
            "Data columns (total 21 columns):\n",
            " #   Column          Non-Null Count  Dtype  \n",
            "---  ------          --------------  -----  \n",
            " 0   age             41188 non-null  int64  \n",
            " 1   job             41188 non-null  object \n",
            " 2   marital         41188 non-null  object \n",
            " 3   education       41188 non-null  object \n",
            " 4   default         41188 non-null  object \n",
            " 5   housing         41188 non-null  object \n",
            " 6   loan            41188 non-null  object \n",
            " 7   contact         41188 non-null  object \n",
            " 8   month           41188 non-null  object \n",
            " 9   day_of_week     41188 non-null  object \n",
            " 10  duration        41188 non-null  int64  \n",
            " 11  campaign        41188 non-null  int64  \n",
            " 12  pdays           41188 non-null  int64  \n",
            " 13  previous        41188 non-null  int64  \n",
            " 14  poutcome        41188 non-null  object \n",
            " 15  emp.var.rate    41188 non-null  float64\n",
            " 16  cons.price.idx  41188 non-null  float64\n",
            " 17  cons.conf.idx   41188 non-null  float64\n",
            " 18  euribor3m       41188 non-null  float64\n",
            " 19  nr.employed     41188 non-null  float64\n",
            " 20  y               41188 non-null  object \n",
            "dtypes: float64(5), int64(5), object(11)\n",
            "memory usage: 6.6+ MB\n"
          ]
        },
        {
          "output_type": "execute_result",
          "data": {
            "text/html": [
              "<div>\n",
              "<style scoped>\n",
              "    .dataframe tbody tr th:only-of-type {\n",
              "        vertical-align: middle;\n",
              "    }\n",
              "\n",
              "    .dataframe tbody tr th {\n",
              "        vertical-align: top;\n",
              "    }\n",
              "\n",
              "    .dataframe thead th {\n",
              "        text-align: right;\n",
              "    }\n",
              "</style>\n",
              "<table border=\"1\" class=\"dataframe\">\n",
              "  <thead>\n",
              "    <tr style=\"text-align: right;\">\n",
              "      <th></th>\n",
              "      <th>age</th>\n",
              "      <th>job</th>\n",
              "      <th>marital</th>\n",
              "      <th>education</th>\n",
              "      <th>default</th>\n",
              "      <th>housing</th>\n",
              "      <th>loan</th>\n",
              "      <th>contact</th>\n",
              "      <th>month</th>\n",
              "      <th>day_of_week</th>\n",
              "      <th>duration</th>\n",
              "      <th>campaign</th>\n",
              "      <th>pdays</th>\n",
              "      <th>previous</th>\n",
              "      <th>poutcome</th>\n",
              "      <th>emp.var.rate</th>\n",
              "      <th>cons.price.idx</th>\n",
              "      <th>cons.conf.idx</th>\n",
              "      <th>euribor3m</th>\n",
              "      <th>nr.employed</th>\n",
              "      <th>y</th>\n",
              "    </tr>\n",
              "  </thead>\n",
              "  <tbody>\n",
              "    <tr>\n",
              "      <th>0</th>\n",
              "      <td>56</td>\n",
              "      <td>housemaid</td>\n",
              "      <td>married</td>\n",
              "      <td>basic.4y</td>\n",
              "      <td>no</td>\n",
              "      <td>no</td>\n",
              "      <td>no</td>\n",
              "      <td>telephone</td>\n",
              "      <td>may</td>\n",
              "      <td>mon</td>\n",
              "      <td>261</td>\n",
              "      <td>1</td>\n",
              "      <td>999</td>\n",
              "      <td>0</td>\n",
              "      <td>nonexistent</td>\n",
              "      <td>1.1</td>\n",
              "      <td>93.994</td>\n",
              "      <td>-36.4</td>\n",
              "      <td>4.857</td>\n",
              "      <td>5191.0</td>\n",
              "      <td>no</td>\n",
              "    </tr>\n",
              "    <tr>\n",
              "      <th>1</th>\n",
              "      <td>57</td>\n",
              "      <td>services</td>\n",
              "      <td>married</td>\n",
              "      <td>high.school</td>\n",
              "      <td>unknown</td>\n",
              "      <td>no</td>\n",
              "      <td>no</td>\n",
              "      <td>telephone</td>\n",
              "      <td>may</td>\n",
              "      <td>mon</td>\n",
              "      <td>149</td>\n",
              "      <td>1</td>\n",
              "      <td>999</td>\n",
              "      <td>0</td>\n",
              "      <td>nonexistent</td>\n",
              "      <td>1.1</td>\n",
              "      <td>93.994</td>\n",
              "      <td>-36.4</td>\n",
              "      <td>4.857</td>\n",
              "      <td>5191.0</td>\n",
              "      <td>no</td>\n",
              "    </tr>\n",
              "    <tr>\n",
              "      <th>2</th>\n",
              "      <td>37</td>\n",
              "      <td>services</td>\n",
              "      <td>married</td>\n",
              "      <td>high.school</td>\n",
              "      <td>no</td>\n",
              "      <td>yes</td>\n",
              "      <td>no</td>\n",
              "      <td>telephone</td>\n",
              "      <td>may</td>\n",
              "      <td>mon</td>\n",
              "      <td>226</td>\n",
              "      <td>1</td>\n",
              "      <td>999</td>\n",
              "      <td>0</td>\n",
              "      <td>nonexistent</td>\n",
              "      <td>1.1</td>\n",
              "      <td>93.994</td>\n",
              "      <td>-36.4</td>\n",
              "      <td>4.857</td>\n",
              "      <td>5191.0</td>\n",
              "      <td>no</td>\n",
              "    </tr>\n",
              "    <tr>\n",
              "      <th>3</th>\n",
              "      <td>40</td>\n",
              "      <td>admin.</td>\n",
              "      <td>married</td>\n",
              "      <td>basic.6y</td>\n",
              "      <td>no</td>\n",
              "      <td>no</td>\n",
              "      <td>no</td>\n",
              "      <td>telephone</td>\n",
              "      <td>may</td>\n",
              "      <td>mon</td>\n",
              "      <td>151</td>\n",
              "      <td>1</td>\n",
              "      <td>999</td>\n",
              "      <td>0</td>\n",
              "      <td>nonexistent</td>\n",
              "      <td>1.1</td>\n",
              "      <td>93.994</td>\n",
              "      <td>-36.4</td>\n",
              "      <td>4.857</td>\n",
              "      <td>5191.0</td>\n",
              "      <td>no</td>\n",
              "    </tr>\n",
              "    <tr>\n",
              "      <th>4</th>\n",
              "      <td>56</td>\n",
              "      <td>services</td>\n",
              "      <td>married</td>\n",
              "      <td>high.school</td>\n",
              "      <td>no</td>\n",
              "      <td>no</td>\n",
              "      <td>yes</td>\n",
              "      <td>telephone</td>\n",
              "      <td>may</td>\n",
              "      <td>mon</td>\n",
              "      <td>307</td>\n",
              "      <td>1</td>\n",
              "      <td>999</td>\n",
              "      <td>0</td>\n",
              "      <td>nonexistent</td>\n",
              "      <td>1.1</td>\n",
              "      <td>93.994</td>\n",
              "      <td>-36.4</td>\n",
              "      <td>4.857</td>\n",
              "      <td>5191.0</td>\n",
              "      <td>no</td>\n",
              "    </tr>\n",
              "    <tr>\n",
              "      <th>...</th>\n",
              "      <td>...</td>\n",
              "      <td>...</td>\n",
              "      <td>...</td>\n",
              "      <td>...</td>\n",
              "      <td>...</td>\n",
              "      <td>...</td>\n",
              "      <td>...</td>\n",
              "      <td>...</td>\n",
              "      <td>...</td>\n",
              "      <td>...</td>\n",
              "      <td>...</td>\n",
              "      <td>...</td>\n",
              "      <td>...</td>\n",
              "      <td>...</td>\n",
              "      <td>...</td>\n",
              "      <td>...</td>\n",
              "      <td>...</td>\n",
              "      <td>...</td>\n",
              "      <td>...</td>\n",
              "      <td>...</td>\n",
              "      <td>...</td>\n",
              "    </tr>\n",
              "    <tr>\n",
              "      <th>995</th>\n",
              "      <td>32</td>\n",
              "      <td>entrepreneur</td>\n",
              "      <td>married</td>\n",
              "      <td>basic.6y</td>\n",
              "      <td>no</td>\n",
              "      <td>yes</td>\n",
              "      <td>no</td>\n",
              "      <td>telephone</td>\n",
              "      <td>may</td>\n",
              "      <td>wed</td>\n",
              "      <td>163</td>\n",
              "      <td>1</td>\n",
              "      <td>999</td>\n",
              "      <td>0</td>\n",
              "      <td>nonexistent</td>\n",
              "      <td>1.1</td>\n",
              "      <td>93.994</td>\n",
              "      <td>-36.4</td>\n",
              "      <td>4.856</td>\n",
              "      <td>5191.0</td>\n",
              "      <td>no</td>\n",
              "    </tr>\n",
              "    <tr>\n",
              "      <th>996</th>\n",
              "      <td>41</td>\n",
              "      <td>services</td>\n",
              "      <td>single</td>\n",
              "      <td>high.school</td>\n",
              "      <td>no</td>\n",
              "      <td>yes</td>\n",
              "      <td>yes</td>\n",
              "      <td>telephone</td>\n",
              "      <td>may</td>\n",
              "      <td>wed</td>\n",
              "      <td>345</td>\n",
              "      <td>1</td>\n",
              "      <td>999</td>\n",
              "      <td>0</td>\n",
              "      <td>nonexistent</td>\n",
              "      <td>1.1</td>\n",
              "      <td>93.994</td>\n",
              "      <td>-36.4</td>\n",
              "      <td>4.856</td>\n",
              "      <td>5191.0</td>\n",
              "      <td>no</td>\n",
              "    </tr>\n",
              "    <tr>\n",
              "      <th>997</th>\n",
              "      <td>59</td>\n",
              "      <td>housemaid</td>\n",
              "      <td>married</td>\n",
              "      <td>basic.6y</td>\n",
              "      <td>no</td>\n",
              "      <td>yes</td>\n",
              "      <td>no</td>\n",
              "      <td>telephone</td>\n",
              "      <td>may</td>\n",
              "      <td>wed</td>\n",
              "      <td>329</td>\n",
              "      <td>1</td>\n",
              "      <td>999</td>\n",
              "      <td>0</td>\n",
              "      <td>nonexistent</td>\n",
              "      <td>1.1</td>\n",
              "      <td>93.994</td>\n",
              "      <td>-36.4</td>\n",
              "      <td>4.856</td>\n",
              "      <td>5191.0</td>\n",
              "      <td>no</td>\n",
              "    </tr>\n",
              "    <tr>\n",
              "      <th>998</th>\n",
              "      <td>57</td>\n",
              "      <td>technician</td>\n",
              "      <td>married</td>\n",
              "      <td>basic.9y</td>\n",
              "      <td>no</td>\n",
              "      <td>yes</td>\n",
              "      <td>no</td>\n",
              "      <td>telephone</td>\n",
              "      <td>may</td>\n",
              "      <td>wed</td>\n",
              "      <td>68</td>\n",
              "      <td>1</td>\n",
              "      <td>999</td>\n",
              "      <td>0</td>\n",
              "      <td>nonexistent</td>\n",
              "      <td>1.1</td>\n",
              "      <td>93.994</td>\n",
              "      <td>-36.4</td>\n",
              "      <td>4.856</td>\n",
              "      <td>5191.0</td>\n",
              "      <td>no</td>\n",
              "    </tr>\n",
              "    <tr>\n",
              "      <th>999</th>\n",
              "      <td>30</td>\n",
              "      <td>services</td>\n",
              "      <td>married</td>\n",
              "      <td>unknown</td>\n",
              "      <td>no</td>\n",
              "      <td>no</td>\n",
              "      <td>no</td>\n",
              "      <td>telephone</td>\n",
              "      <td>may</td>\n",
              "      <td>wed</td>\n",
              "      <td>143</td>\n",
              "      <td>3</td>\n",
              "      <td>999</td>\n",
              "      <td>0</td>\n",
              "      <td>nonexistent</td>\n",
              "      <td>1.1</td>\n",
              "      <td>93.994</td>\n",
              "      <td>-36.4</td>\n",
              "      <td>4.856</td>\n",
              "      <td>5191.0</td>\n",
              "      <td>no</td>\n",
              "    </tr>\n",
              "  </tbody>\n",
              "</table>\n",
              "<p>1000 rows × 21 columns</p>\n",
              "</div>"
            ],
            "text/plain": [
              "     age           job  marital  ... euribor3m nr.employed   y\n",
              "0     56     housemaid  married  ...     4.857      5191.0  no\n",
              "1     57      services  married  ...     4.857      5191.0  no\n",
              "2     37      services  married  ...     4.857      5191.0  no\n",
              "3     40        admin.  married  ...     4.857      5191.0  no\n",
              "4     56      services  married  ...     4.857      5191.0  no\n",
              "..   ...           ...      ...  ...       ...         ...  ..\n",
              "995   32  entrepreneur  married  ...     4.856      5191.0  no\n",
              "996   41      services   single  ...     4.856      5191.0  no\n",
              "997   59     housemaid  married  ...     4.856      5191.0  no\n",
              "998   57    technician  married  ...     4.856      5191.0  no\n",
              "999   30      services  married  ...     4.856      5191.0  no\n",
              "\n",
              "[1000 rows x 21 columns]"
            ]
          },
          "metadata": {},
          "execution_count": 49
        }
      ]
    },
    {
      "cell_type": "code",
      "metadata": {
        "id": "p1E9-AZ3TGgn"
      },
      "source": [
        "#viewing columns of the data set \n",
        "cols = list(df.columns)\n",
        "for col in cols:\n",
        "    for i in range(df.shape[0]):\n",
        "        if col == \"job\" and df[col][i] == \"unknown\":\n",
        "            df[col][i] = \"unemployed\"  #Assuming unemployed status\n",
        "        if col == \"marital\" and df[col][i] == \"unknown\":\n",
        "            df[col][i] = \"single\" #Assuming 'Single' status\n",
        "        if col == \"education\" and df[col][i] == \"unknown\":\n",
        "            df[col][i] = \"illiterate\" #Assuming uneducated status    \n",
        "        if col in [\"default\", \"housing\", \"loan\"] and df[col][i] == \"unknown\":\n",
        "            df[col][i] = None\n",
        "        # Similarly, pdays = 999 indicates the client was not contacted and deemed not interested so can be dropped.\n",
        "        if col == \"pdays\" and df[col][i] == 999:\n",
        "            df[col][i] = None\n",
        "        # poutcome can either be success or failure. Thus, nonexistant =  missing data and, can be dropped.\n",
        "        if col == \"poutcome\" and df[col][i] == \"nonexistent\":\n",
        "            df[col][i] = None\n"
      ],
      "execution_count": null,
      "outputs": []
    },
    {
      "cell_type": "code",
      "metadata": {
        "colab": {
          "base_uri": "https://localhost:8080/"
        },
        "id": "4DYO5KOaTOlP",
        "outputId": "890a38ca-5e51-497a-a9dd-00fad6aa1e97"
      },
      "source": [
        "df.isna().sum()"
      ],
      "execution_count": null,
      "outputs": [
        {
          "output_type": "execute_result",
          "data": {
            "text/plain": [
              "age                   0\n",
              "job                   0\n",
              "marital               0\n",
              "education             0\n",
              "default            8597\n",
              "housing             990\n",
              "loan                990\n",
              "contact               0\n",
              "month                 0\n",
              "day_of_week           0\n",
              "duration              0\n",
              "campaign              0\n",
              "pdays             39673\n",
              "previous              0\n",
              "poutcome          35563\n",
              "emp.var.rate          0\n",
              "cons.price.idx        0\n",
              "cons.conf.idx         0\n",
              "euribor3m             0\n",
              "nr.employed           0\n",
              "y                     0\n",
              "dtype: int64"
            ]
          },
          "metadata": {},
          "execution_count": 51
        }
      ]
    },
    {
      "cell_type": "markdown",
      "metadata": {
        "id": "YBx8oHk6s8JL"
      },
      "source": [
        ""
      ]
    },
    {
      "cell_type": "markdown",
      "metadata": {
        "id": "ZaDLljHPtBGZ"
      },
      "source": [
        ""
      ]
    },
    {
      "cell_type": "code",
      "metadata": {
        "id": "KYM2EEi_Dqme"
      },
      "source": [
        ""
      ],
      "execution_count": null,
      "outputs": []
    },
    {
      "cell_type": "markdown",
      "metadata": {
        "id": "40VKByBMDkt2"
      },
      "source": [
        ""
      ]
    },
    {
      "cell_type": "markdown",
      "metadata": {
        "id": "jwM9AHkUsxld"
      },
      "source": [
        "#Check Distribution of Target Variable (y)"
      ]
    },
    {
      "cell_type": "code",
      "metadata": {
        "colab": {
          "base_uri": "https://localhost:8080/",
          "height": 350
        },
        "id": "aOv26g0XlAZl",
        "outputId": "876b6d2f-8fc4-4877-f0db-78d881dc9cdc"
      },
      "source": [
        "#Check distribution of target variable (y)\n",
        "plt.figure(figsize=(6,4))\n",
        "\n",
        "ax = sns.countplot(x=\"y\", data=df, palette=\"mako\")\n",
        "\n",
        "plt.xlabel(\"y\", fontsize= 12)\n",
        "plt.ylabel(\"# of Clients\", fontsize= 12)\n",
        "plt.ylim(0,30000)\n",
        "plt.xticks([0,1], ['No', 'Yes'], fontsize = 11)\n",
        "\n",
        "for p in ax.patches:\n",
        "    ax.annotate((p.get_height()), (p.get_x()+0.32, p.get_height()+1000))\n",
        "    \n",
        "plt.show()"
      ],
      "execution_count": null,
      "outputs": [
        {
          "output_type": "display_data",
          "data": {
            "image/png": "[encoded data removed]",
            "text/plain": [
              "<Figure size 432x288 with 1 Axes>"
            ]
          },
          "metadata": {}
        }
      ]
    },
    {
      "cell_type": "markdown",
      "metadata": {
        "id": "ZbAchu_N_X9W"
      },
      "source": [
        "Data set target outcome is unbalanced"
      ]
    },
    {
      "cell_type": "code",
      "metadata": {
        "colab": {
          "base_uri": "https://localhost:8080/",
          "height": 303
        },
        "id": "D18d1c2clRqp",
        "outputId": "0d1c42e6-f338-4e5b-b3c8-d44bf2d64436"
      },
      "source": [
        "#Check distribution of target variable (y)\n",
        "plt.figure(figsize=(7,5))\n",
        "\n",
        "df['y'].value_counts().plot(kind='pie',labels = ['',''], autopct='%1.1f%%', colors = ['blue','salmon'], explode = [0,0.05], textprops = {\"fontsize\":15})\n",
        "\n",
        "plt.legend(labels=['No', 'yes'])\n",
        "plt.show()"
      ],
      "execution_count": null,
      "outputs": [
        {
          "output_type": "display_data",
          "data": {
            "image/png": "[encoded data removed]",
            "text/plain": [
              "<Figure size 504x360 with 1 Axes>"
            ]
          },
          "metadata": {}
        }
      ]
    },
    {
      "cell_type": "markdown",
      "metadata": {
        "id": "9sClbJTCtWZH"
      },
      "source": [
        "# Feature Selection"
      ]
    },
    {
      "cell_type": "code",
      "metadata": {
        "id": "OLpy8kh0TWhO"
      },
      "source": [
        "# pdays, previous and poutcome columns can be dropped since most of the clients seem to be new.\n",
        "df.drop(['pdays', 'poutcome', 'previous'], axis=1, inplace=True)\n",
        "# Drop the records with missing data\n",
        "df.dropna(axis=0, how='any', inplace=True)"
      ],
      "execution_count": null,
      "outputs": []
    },
    {
      "cell_type": "code",
      "metadata": {
        "id": "xlULUWPmTlDS",
        "colab": {
          "base_uri": "https://localhost:8080/",
          "height": 561
        },
        "outputId": "f84a017f-aa7a-44a4-e150-13459b8b2a8a"
      },
      "source": [
        "# Lets check for correlated data\n",
        "correlated_data = df.corr()\n",
        "# plot the correlation graph\n",
        "plt.figure(figsize= (18,10))\n",
        "#visualize and annotae the correlated data\n",
        "sns.heatmap(correlated_data, cmap=\"Blues\", annot=True)\n",
        "# to show the graph\n",
        "plt.show()\n"
      ],
      "execution_count": null,
      "outputs": [
        {
          "output_type": "display_data",
          "data": {
            "image/png": "[encoded data removed]",
            "text/plain": [
              "<Figure size 1296x720 with 2 Axes>"
            ]
          },
          "metadata": {}
        }
      ]
    },
    {
      "cell_type": "markdown",
      "metadata": {
        "id": "8qHdfEqDwzrY"
      },
      "source": [
        "# Data Pre-processing"
      ]
    },
    {
      "cell_type": "code",
      "metadata": {
        "id": "lpLu-2VJTphC",
        "colab": {
          "base_uri": "https://localhost:8080/",
          "height": 444
        },
        "outputId": "9f373c74-4501-4892-ca2a-95ba4e6f4cc3"
      },
      "source": [
        "\n",
        "# duration also can be dropped for the purpose of predictive analysis.\n",
        "df.drop(['emp.var.rate', 'euribor3m', 'nr.employed', 'duration'], axis=1, inplace=True)\n",
        "# Converting categorical and binary type columns to numerical type for easy computation. \n",
        "binary_cols = ['default', 'housing', 'loan', 'y']\n",
        "dummy_list = [] # initialize the empty list for dummies \n",
        "for c in binary_cols: #iterate while creating new values \n",
        "    for text in df[c].values:\n",
        "        if text == 'yes':\n",
        "            dummy_list.append(1)\n",
        "        else:\n",
        "            dummy_list.append(0)\n",
        "    df[c] = dummy_list\n",
        "    dummy_list = []\n",
        "\n",
        "# generate new integer values for non integers \n",
        "job_types = {'admin.':1,'blue-collar':2,'entrepreneur':3,'housemaid':4,'management':5,'retired':6,'self-employed':7,\n",
        "             'services':8,'student':9,'technician':10,'unemployed':11}\n",
        "marital_status = {'divorced':1,'married':2,'single':3}\n",
        "edu = {'basic.4y':1,'basic.6y':2,'basic.9y':3,'high.school':4,'illiterate':5,'professional.course':6,'university.degree':7}\n",
        "contact_type = {'cellular':1,'telephone':2}\n",
        "months = {'jan':1,'feb':2,'mar':3,'apr':4,'may':5,'jun':6,'jul':7,'aug':8,'sep':9,'oct':10,'nov':11,'dec':12}\n",
        "days = {'mon':1,'tue':2,'wed':3,'thu':4,'fri':5}\n",
        "\n",
        "# copy dummy values back to the original dataset \n",
        "cpy = []\n",
        "for txt in df['job'].values:\n",
        "    cpy.append(job_types[txt])\n",
        "df['job'] = cpy\n",
        "cpy = []\n",
        "for txt in df['marital'].values:\n",
        "    cpy.append(marital_status[txt])\n",
        "df['marital'] = cpy\n",
        "cpy = []\n",
        "for txt in df['education'].values:\n",
        "    cpy.append(edu[txt])\n",
        "df['education'] = cpy\n",
        "cpy = []\n",
        "for txt in df['contact'].values:\n",
        "    cpy.append(contact_type[txt])\n",
        "df['contact'] = cpy\n",
        "cpy = []\n",
        "for txt in df['month'].values:\n",
        "    cpy.append(months[txt])\n",
        "df['month'] = cpy\n",
        "cpy = []\n",
        "for txt in df['day_of_week'].values:\n",
        "    cpy.append(days[txt])\n",
        "df['day_of_week'] = cpy\n",
        "cpy = []\n",
        "#load data again\n",
        "df\n",
        "# y refers to the target variable, response where 0 - 1 means subscribed and 0 means not subscribed"
      ],
      "execution_count": null,
      "outputs": [
        {
          "output_type": "execute_result",
          "data": {
            "text/html": [
              "<div>\n",
              "<style scoped>\n",
              "    .dataframe tbody tr th:only-of-type {\n",
              "        vertical-align: middle;\n",
              "    }\n",
              "\n",
              "    .dataframe tbody tr th {\n",
              "        vertical-align: top;\n",
              "    }\n",
              "\n",
              "    .dataframe thead th {\n",
              "        text-align: right;\n",
              "    }\n",
              "</style>\n",
              "<table border=\"1\" class=\"dataframe\">\n",
              "  <thead>\n",
              "    <tr style=\"text-align: right;\">\n",
              "      <th></th>\n",
              "      <th>age</th>\n",
              "      <th>job</th>\n",
              "      <th>marital</th>\n",
              "      <th>education</th>\n",
              "      <th>default</th>\n",
              "      <th>housing</th>\n",
              "      <th>loan</th>\n",
              "      <th>contact</th>\n",
              "      <th>month</th>\n",
              "      <th>day_of_week</th>\n",
              "      <th>campaign</th>\n",
              "      <th>cons.price.idx</th>\n",
              "      <th>cons.conf.idx</th>\n",
              "      <th>y</th>\n",
              "    </tr>\n",
              "  </thead>\n",
              "  <tbody>\n",
              "    <tr>\n",
              "      <th>0</th>\n",
              "      <td>56</td>\n",
              "      <td>4</td>\n",
              "      <td>2</td>\n",
              "      <td>1</td>\n",
              "      <td>0</td>\n",
              "      <td>0</td>\n",
              "      <td>0</td>\n",
              "      <td>2</td>\n",
              "      <td>5</td>\n",
              "      <td>1</td>\n",
              "      <td>1</td>\n",
              "      <td>93.994</td>\n",
              "      <td>-36.4</td>\n",
              "      <td>0</td>\n",
              "    </tr>\n",
              "    <tr>\n",
              "      <th>2</th>\n",
              "      <td>37</td>\n",
              "      <td>8</td>\n",
              "      <td>2</td>\n",
              "      <td>4</td>\n",
              "      <td>0</td>\n",
              "      <td>1</td>\n",
              "      <td>0</td>\n",
              "      <td>2</td>\n",
              "      <td>5</td>\n",
              "      <td>1</td>\n",
              "      <td>1</td>\n",
              "      <td>93.994</td>\n",
              "      <td>-36.4</td>\n",
              "      <td>0</td>\n",
              "    </tr>\n",
              "    <tr>\n",
              "      <th>3</th>\n",
              "      <td>40</td>\n",
              "      <td>1</td>\n",
              "      <td>2</td>\n",
              "      <td>2</td>\n",
              "      <td>0</td>\n",
              "      <td>0</td>\n",
              "      <td>0</td>\n",
              "      <td>2</td>\n",
              "      <td>5</td>\n",
              "      <td>1</td>\n",
              "      <td>1</td>\n",
              "      <td>93.994</td>\n",
              "      <td>-36.4</td>\n",
              "      <td>0</td>\n",
              "    </tr>\n",
              "    <tr>\n",
              "      <th>4</th>\n",
              "      <td>56</td>\n",
              "      <td>8</td>\n",
              "      <td>2</td>\n",
              "      <td>4</td>\n",
              "      <td>0</td>\n",
              "      <td>0</td>\n",
              "      <td>1</td>\n",
              "      <td>2</td>\n",
              "      <td>5</td>\n",
              "      <td>1</td>\n",
              "      <td>1</td>\n",
              "      <td>93.994</td>\n",
              "      <td>-36.4</td>\n",
              "      <td>0</td>\n",
              "    </tr>\n",
              "    <tr>\n",
              "      <th>6</th>\n",
              "      <td>59</td>\n",
              "      <td>1</td>\n",
              "      <td>2</td>\n",
              "      <td>6</td>\n",
              "      <td>0</td>\n",
              "      <td>0</td>\n",
              "      <td>0</td>\n",
              "      <td>2</td>\n",
              "      <td>5</td>\n",
              "      <td>1</td>\n",
              "      <td>1</td>\n",
              "      <td>93.994</td>\n",
              "      <td>-36.4</td>\n",
              "      <td>0</td>\n",
              "    </tr>\n",
              "    <tr>\n",
              "      <th>...</th>\n",
              "      <td>...</td>\n",
              "      <td>...</td>\n",
              "      <td>...</td>\n",
              "      <td>...</td>\n",
              "      <td>...</td>\n",
              "      <td>...</td>\n",
              "      <td>...</td>\n",
              "      <td>...</td>\n",
              "      <td>...</td>\n",
              "      <td>...</td>\n",
              "      <td>...</td>\n",
              "      <td>...</td>\n",
              "      <td>...</td>\n",
              "      <td>...</td>\n",
              "    </tr>\n",
              "    <tr>\n",
              "      <th>41183</th>\n",
              "      <td>73</td>\n",
              "      <td>6</td>\n",
              "      <td>2</td>\n",
              "      <td>6</td>\n",
              "      <td>0</td>\n",
              "      <td>1</td>\n",
              "      <td>0</td>\n",
              "      <td>1</td>\n",
              "      <td>11</td>\n",
              "      <td>5</td>\n",
              "      <td>1</td>\n",
              "      <td>94.767</td>\n",
              "      <td>-50.8</td>\n",
              "      <td>1</td>\n",
              "    </tr>\n",
              "    <tr>\n",
              "      <th>41184</th>\n",
              "      <td>46</td>\n",
              "      <td>2</td>\n",
              "      <td>2</td>\n",
              "      <td>6</td>\n",
              "      <td>0</td>\n",
              "      <td>0</td>\n",
              "      <td>0</td>\n",
              "      <td>1</td>\n",
              "      <td>11</td>\n",
              "      <td>5</td>\n",
              "      <td>1</td>\n",
              "      <td>94.767</td>\n",
              "      <td>-50.8</td>\n",
              "      <td>0</td>\n",
              "    </tr>\n",
              "    <tr>\n",
              "      <th>41185</th>\n",
              "      <td>56</td>\n",
              "      <td>6</td>\n",
              "      <td>2</td>\n",
              "      <td>7</td>\n",
              "      <td>0</td>\n",
              "      <td>1</td>\n",
              "      <td>0</td>\n",
              "      <td>1</td>\n",
              "      <td>11</td>\n",
              "      <td>5</td>\n",
              "      <td>2</td>\n",
              "      <td>94.767</td>\n",
              "      <td>-50.8</td>\n",
              "      <td>0</td>\n",
              "    </tr>\n",
              "    <tr>\n",
              "      <th>41186</th>\n",
              "      <td>44</td>\n",
              "      <td>10</td>\n",
              "      <td>2</td>\n",
              "      <td>6</td>\n",
              "      <td>0</td>\n",
              "      <td>0</td>\n",
              "      <td>0</td>\n",
              "      <td>1</td>\n",
              "      <td>11</td>\n",
              "      <td>5</td>\n",
              "      <td>1</td>\n",
              "      <td>94.767</td>\n",
              "      <td>-50.8</td>\n",
              "      <td>1</td>\n",
              "    </tr>\n",
              "    <tr>\n",
              "      <th>41187</th>\n",
              "      <td>74</td>\n",
              "      <td>6</td>\n",
              "      <td>2</td>\n",
              "      <td>6</td>\n",
              "      <td>0</td>\n",
              "      <td>1</td>\n",
              "      <td>0</td>\n",
              "      <td>1</td>\n",
              "      <td>11</td>\n",
              "      <td>5</td>\n",
              "      <td>3</td>\n",
              "      <td>94.767</td>\n",
              "      <td>-50.8</td>\n",
              "      <td>0</td>\n",
              "    </tr>\n",
              "  </tbody>\n",
              "</table>\n",
              "<p>31828 rows × 14 columns</p>\n",
              "</div>"
            ],
            "text/plain": [
              "       age  job  marital  education  ...  campaign  cons.price.idx  cons.conf.idx  y\n",
              "0       56    4        2          1  ...         1          93.994          -36.4  0\n",
              "2       37    8        2          4  ...         1          93.994          -36.4  0\n",
              "3       40    1        2          2  ...         1          93.994          -36.4  0\n",
              "4       56    8        2          4  ...         1          93.994          -36.4  0\n",
              "6       59    1        2          6  ...         1          93.994          -36.4  0\n",
              "...    ...  ...      ...        ...  ...       ...             ...            ... ..\n",
              "41183   73    6        2          6  ...         1          94.767          -50.8  1\n",
              "41184   46    2        2          6  ...         1          94.767          -50.8  0\n",
              "41185   56    6        2          7  ...         2          94.767          -50.8  0\n",
              "41186   44   10        2          6  ...         1          94.767          -50.8  1\n",
              "41187   74    6        2          6  ...         3          94.767          -50.8  0\n",
              "\n",
              "[31828 rows x 14 columns]"
            ]
          },
          "metadata": {},
          "execution_count": 56
        }
      ]
    },
    {
      "cell_type": "markdown",
      "metadata": {
        "id": "aYgBXoyC19y8"
      },
      "source": [
        ""
      ]
    },
    {
      "cell_type": "markdown",
      "metadata": {
        "id": "LDQml43W7RAC"
      },
      "source": [
        "# Train-Test Split Unbalanced Dataset"
      ]
    },
    {
      "cell_type": "code",
      "metadata": {
        "id": "-xfWie6AT80u",
        "colab": {
          "base_uri": "https://localhost:8080/",
          "height": 1000
        },
        "outputId": "de3311b2-4032-4ceb-b1d1-e42350fb1bd6"
      },
      "source": [
        "# split the data set with train_test_split function\n",
        "target = df['y'] # where y is the target column \n",
        "feature_set = df.drop(['y'], axis=1) # gets other columns excluding the target column y \n",
        "# split the dataset \n",
        "X_train, X_test, Y_train, Y_test = train_test_split(feature_set,target, test_size=0.3, random_state=0)\n",
        "#initialize classification algorithms \n",
        "classifiers = [('Logistic Regression', LogisticRegression()),\n",
        "               ('Naive Bayes', GaussianNB()),\n",
        "               ('Random Forest', RandomForestClassifier(n_estimators=100, random_state=0, criterion='gini', bootstrap=True, oob_score=True))]\n",
        "\n",
        "print(f\"\\n Displaying results for unbalanced dataset - Red Report\")\n",
        "# iterate through the classes while fitting the model, making predictions and evaluating each classification\n",
        "for name, classifier in classifiers:\n",
        "    score = 0\n",
        "    # fit the model \n",
        "    classifier = classifier.fit(X_train, Y_train)\n",
        "    # make predictions \n",
        "    predicted_target = classifier.predict(X_test)\n",
        "    # compute the  accuracy score in percentage and round to 2 decimal places\n",
        "    score = accuracy_score(Y_test,predicted_target)\n",
        "    print(f\"\\n ========== Displaying results for %s ========== \"%name)\n",
        "    print(f\"\\n Accuracy score for {name} is : {round(score, 3)* 100:.2f}%\")\n",
        "    #generate a confusion matrix \n",
        "    cm = confusion_matrix(Y_test, predicted_target)\n",
        "    #  generate a classification report from the metricx \n",
        "    cl_report = pd.DataFrame(classification_report(Y_test, predicted_target, output_dict=True))\n",
        "    fig, ax = plt.subplots(figsize=(7,7))\n",
        "    # plot the confusion matrix graph using seaborn and matplotlib \n",
        "    sns.heatmap(cm, annot=True,linewidths=1.5,linecolor=\"#000000\",fmt=\".0f\",ax=ax, cmap=\"Reds\")\n",
        "    plt.title(\"Confusion matrix for {}\".format(name))\n",
        "    plt.xlabel(\"Predicted Values\")\n",
        "    plt.ylabel(\"True Values\")\n",
        "    # display the graph \n",
        "    plt.show()\n",
        "    # display the classification report \n",
        "    print(f\"Classification Report:\\n{cl_report}\")"
      ],
      "execution_count": null,
      "outputs": [
        {
          "output_type": "stream",
          "name": "stdout",
          "text": [
            "\n",
            " Displaying results for unbalanced dataset - Red Report\n",
            "\n",
            " ========== Displaying results for Logistic Regression ========== \n",
            "\n",
            " Accuracy score for Logistic Regression is : 87.40%\n"
          ]
        },
        {
          "output_type": "display_data",
          "data": {
            "image/png": "[encoded data removed]",
            "text/plain": [
              "<Figure size 504x504 with 2 Axes>"
            ]
          },
          "metadata": {}
        },
        {
          "output_type": "stream",
          "name": "stdout",
          "text": [
            "Classification Report:\n",
            "                     0            1  accuracy    macro avg  weighted avg\n",
            "precision     0.874843     0.444444  0.874437     0.659644      0.820846\n",
            "recall        0.999401     0.003339  0.874437     0.501370      0.874437\n",
            "f1-score      0.932983     0.006628  0.874437     0.469806      0.816764\n",
            "support    8351.000000  1198.000000  0.874437  9549.000000   9549.000000\n",
            "\n",
            " ========== Displaying results for Naive Bayes ========== \n",
            "\n",
            " Accuracy score for Naive Bayes is : 43.30%\n"
          ]
        },
        {
          "output_type": "display_data",
          "data": {
            "image/png": "[encoded data removed]",
            "text/plain": [
              "<Figure size 504x504 with 2 Axes>"
            ]
          },
          "metadata": {}
        },
        {
          "output_type": "stream",
          "name": "stdout",
          "text": [
            "Classification Report:\n",
            "                     0            1  accuracy    macro avg  weighted avg\n",
            "precision     0.951092     0.164973  0.432611     0.558032      0.852467\n",
            "recall        0.370255     0.867279  0.432611     0.618767      0.432611\n",
            "f1-score      0.533012     0.277215  0.432611     0.405113      0.500920\n",
            "support    8351.000000  1198.000000  0.432611  9549.000000   9549.000000\n",
            "\n",
            " ========== Displaying results for Random Forest ========== \n",
            "\n",
            " Accuracy score for Random Forest is : 87.40%\n"
          ]
        },
        {
          "output_type": "display_data",
          "data": {
            "image/png": "[encoded data removed]",
            "text/plain": [
              "<Figure size 504x504 with 2 Axes>"
            ]
          },
          "metadata": {}
        },
        {
          "output_type": "stream",
          "name": "stdout",
          "text": [
            "Classification Report:\n",
            "                     0            1  accuracy    macro avg  weighted avg\n",
            "precision     0.905860     0.496635  0.874018     0.701247      0.854519\n",
            "recall        0.955215     0.308013  0.874018     0.631614      0.874018\n",
            "f1-score      0.929883     0.380216  0.874018     0.655050      0.860923\n",
            "support    8351.000000  1198.000000  0.874018  9549.000000   9549.000000\n"
          ]
        }
      ]
    },
    {
      "cell_type": "markdown",
      "metadata": {
        "id": "-kiZQoUpBIFD"
      },
      "source": [
        "Accuracy : LR = 87.40%, BN = 43.30%, RF = 87.40%"
      ]
    },
    {
      "cell_type": "markdown",
      "metadata": {
        "id": "SwPD6Tjf-m2O"
      },
      "source": [
        "# Train-Test Split balanced Dataset"
      ]
    },
    {
      "cell_type": "code",
      "metadata": {
        "id": "hjPTTz1isyQ4",
        "colab": {
          "base_uri": "https://localhost:8080/",
          "height": 1000
        },
        "outputId": "0a32bfca-11ff-4831-ef60-66d74a5dcb42"
      },
      "source": [
        "# balance the dataset and training again\n",
        "# ***** ============== balancing of the dataset starts here ===== **** \n",
        "# import library Synthetic Minority Oversampling Technique(SMOTE) from imblearn\n",
        "from imblearn.over_sampling import SMOTE\n",
        "from collections import Counter\n",
        "# fit predictor and target variable\n",
        "target = df['y'] # where y is the target column \n",
        "feature_set = df.drop(['y'], axis=1) # gets other columns excluding the target column y \n",
        "# initialize (SMOTE)\n",
        "smote = SMOTE()\n",
        "#fit and resample to balance the dataset\n",
        "feature_set, target = smote.fit_resample(feature_set, target)\n",
        "# count the 1's and 0's \n",
        "counter = Counter(target)\n",
        "print(counter)\n",
        "df\n",
        "# ***** balancing of dataset ends here ********\n",
        "# split the dataset \n",
        "X_train, X_test, Y_train, Y_test = train_test_split(feature_set,target, test_size=0.3, random_state=0)\n",
        "#initialize classification algoritms \n",
        "models = [('Logistic Regression', LogisticRegression()),\n",
        "          ('Naive Bayes', GaussianNB()),\n",
        "          ('Random Forest', RandomForestClassifier(n_estimators=100, random_state=0, criterion='gini', bootstrap=True, oob_score=True))\n",
        "          ]\n",
        "\n",
        "print(f\"\\n Displaying results for balanced dataset - Blue Report \")\n",
        "# iterate through the classes while fitting the model, making predictions and evaluating each classification\n",
        "for name, classifier in models:\n",
        "    score = 0\n",
        "    # fit the model \n",
        "    classifier = classifier.fit(X_train, Y_train)\n",
        "    # make predictions \n",
        "    predicted_target = classifier.predict(X_test)\n",
        "    # compute the  accuracy score in percentage and round to 2 decimal places\n",
        "    score = accuracy_score(Y_test,predicted_target)\n",
        "    print(f\"\\n ========== Displaying results for %s ========== \"%name)\n",
        "    print(f\"\\n Accuracy score for {name} is : {round(score, 3)* 100:.2f}%\")\n",
        "    #generate a confusion matrix \n",
        "    cm = confusion_matrix(Y_test, predicted_target)\n",
        "    #  generate a classification report from the metricx \n",
        "    cl_report = pd.DataFrame(classification_report(Y_test, predicted_target, output_dict=True))\n",
        "    fig, ax = plt.subplots(figsize=(7,7))\n",
        "    # plot the confusion matrix graph using seaborn and matplotlib \n",
        "    sns.heatmap(cm, annot=True,linewidths=1.5,linecolor=\"#000000\",fmt=\".0f\",ax=ax, cmap=\"Blues\")\n",
        "    plt.title(\"Confusion matrix for {}\".format(name))\n",
        "    plt.xlabel(\"Predicted Values\")\n",
        "    plt.ylabel(\"True Values\")\n",
        "    # display the graph \n",
        "    plt.show()\n",
        "    # display the classification report \n",
        "    print(f\"Classification Report:\\n{cl_report}\")\n"
      ],
      "execution_count": null,
      "outputs": [
        {
          "output_type": "stream",
          "name": "stdout",
          "text": [
            "Counter({0: 27727, 1: 27727})\n",
            "\n",
            " Displaying results for balanced dataset - Blue Report \n",
            "\n",
            " ========== Displaying results for Logistic Regression ========== \n",
            "\n",
            " Accuracy score for Logistic Regression is : 70.90%\n"
          ]
        },
        {
          "output_type": "display_data",
          "data": {
            "image/png": "[encoded data removed]",
            "text/plain": [
              "<Figure size 504x504 with 2 Axes>"
            ]
          },
          "metadata": {}
        },
        {
          "output_type": "stream",
          "name": "stdout",
          "text": [
            "Classification Report:\n",
            "                     0            1  accuracy     macro avg  weighted avg\n",
            "precision     0.735310     0.687908  0.708661      0.711609      0.711485\n",
            "recall        0.647251     0.769433  0.708661      0.708342      0.708661\n",
            "f1-score      0.688476     0.726390  0.708661      0.707433      0.707532\n",
            "support    8275.000000  8362.000000  0.708661  16637.000000  16637.000000\n",
            "\n",
            " ========== Displaying results for Naive Bayes ========== \n",
            "\n",
            " Accuracy score for Naive Bayes is : 66.80%\n"
          ]
        },
        {
          "output_type": "display_data",
          "data": {
            "image/png": "[encoded data removed]",
            "text/plain": [
              "<Figure size 504x504 with 2 Axes>"
            ]
          },
          "metadata": {}
        },
        {
          "output_type": "stream",
          "name": "stdout",
          "text": [
            "Classification Report:\n",
            "                     0            1  accuracy     macro avg  weighted avg\n",
            "precision     0.811104     0.616500   0.66833      0.713802      0.713293\n",
            "recall        0.434320     0.899904   0.66833      0.667112      0.668330\n",
            "f1-score      0.565717     0.731719   0.66833      0.648718      0.649152\n",
            "support    8275.000000  8362.000000   0.66833  16637.000000  16637.000000\n",
            "\n",
            " ========== Displaying results for Random Forest ========== \n",
            "\n",
            " Accuracy score for Random Forest is : 89.00%\n"
          ]
        },
        {
          "output_type": "display_data",
          "data": {
            "image/png": "[encoded data removed]",
            "text/plain": [
              "<Figure size 504x504 with 2 Axes>"
            ]
          },
          "metadata": {}
        },
        {
          "output_type": "stream",
          "name": "stdout",
          "text": [
            "Classification Report:\n",
            "                     0            1  accuracy     macro avg  weighted avg\n",
            "precision     0.895098     0.885455  0.890185      0.890276      0.890251\n",
            "recall        0.882659     0.897632  0.890185      0.890145      0.890185\n",
            "f1-score      0.888835     0.891502  0.890185      0.890168      0.890175\n",
            "support    8275.000000  8362.000000  0.890185  16637.000000  16637.000000\n"
          ]
        }
      ]
    },
    {
      "cell_type": "code",
      "metadata": {
        "id": "dzWcn1GBCr8f"
      },
      "source": [
        "#accuracy LR = 70.80%, NB = 67.10%, RF = 89.10%"
      ],
      "execution_count": null,
      "outputs": []
    }
  ]
}